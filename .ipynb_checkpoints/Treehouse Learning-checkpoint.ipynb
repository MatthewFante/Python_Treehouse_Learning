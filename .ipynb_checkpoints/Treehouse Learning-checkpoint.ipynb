{
 "cells": [
  {
   "cell_type": "markdown",
   "metadata": {},
   "source": [
    "## Shopping List"
   ]
  },
  {
   "cell_type": "code",
   "execution_count": null,
   "metadata": {},
   "outputs": [],
   "source": [
    "shopping_list = []\n",
    "\n",
    "def add_to_list (item):\n",
    "    shopping_list.append(item)\n",
    "    print(\"Item added. There are {} items in the list\".format(len(shopping_list)))\n",
    "\n",
    "def show_help():\n",
    "    print(\"\"\"\n",
    "    What should we pick up at the store?\n",
    "    \n",
    "    Enter 'SHOW' to show the list.\n",
    "    Enter 'DONE' to stop adding items.\n",
    "    Enter 'HELP' to show this help. \n",
    "    \"\"\")\n",
    "    \n",
    "def show_list(list):\n",
    "    print(\"Here's your shopping list:\")\n",
    "    for item in list:\n",
    "        print(\"-\", item)\n",
    "\n",
    "show_help()\n",
    "\n",
    "while True:\n",
    "    new_item = input(\"> \")\n",
    "  \n",
    "    if new_item == \"DONE\":\n",
    "        break\n",
    "    \n",
    "    elif new_item == \"HELP\":\n",
    "        show_help()\n",
    "        continue\n",
    "    \n",
    "    elif new_item == \"SHOW\":\n",
    "        show_list(shopping_list)\n",
    "        continue\n",
    "\n",
    "    add_to_list(new_item)\n",
    "    \n",
    "show_list(shopping_list)"
   ]
  },
  {
   "cell_type": "markdown",
   "metadata": {},
   "source": [
    "## Function Packing & Unpacking"
   ]
  },
  {
   "cell_type": "code",
   "execution_count": 3,
   "metadata": {},
   "outputs": [
    {
     "name": "stdout",
     "output_type": "stream",
     "text": [
      "Enter your full name: \n",
      "Matthew Fante\n",
      "Matthew\n",
      "Fante\n"
     ]
    }
   ],
   "source": [
    "first, last = input('Enter your full name: \\n').split(' ')\n",
    "\n",
    "print(first)\n",
    "print(last)"
   ]
  },
  {
   "cell_type": "markdown",
   "metadata": {},
   "source": [
    "## Python Sequences"
   ]
  },
  {
   "cell_type": "code",
   "execution_count": 4,
   "metadata": {},
   "outputs": [
    {
     "name": "stdout",
     "output_type": "stream",
     "text": [
      "M\n",
      "a\n",
      "t\n",
      "t\n",
      "h\n",
      "e\n",
      "w\n"
     ]
    }
   ],
   "source": [
    "my_name = \"Matthew\"\n",
    "for letter in my_name:\n",
    "    print(letter)"
   ]
  },
  {
   "cell_type": "code",
   "execution_count": 6,
   "metadata": {},
   "outputs": [
    {
     "name": "stdout",
     "output_type": "stream",
     "text": [
      "GROCERY LIST:\n",
      "-  roast beef\n",
      "-  cucumbers\n",
      "-  lettuce\n",
      "-  peanut butter\n",
      "-  bread\n",
      "-  dog food\n"
     ]
    }
   ],
   "source": [
    "groceries = ['roast beef', 'cucumbers', 'lettuce', 'peanut butter', 'bread', 'dog food']\n",
    "print(\"GROCERY LIST:\")\n",
    "for item in groceries:\n",
    "    print(\"- \", item)"
   ]
  },
  {
   "cell_type": "code",
   "execution_count": null,
   "metadata": {},
   "outputs": [],
   "source": []
  }
 ],
 "metadata": {
  "kernelspec": {
   "display_name": "Python 3",
   "language": "python",
   "name": "python3"
  },
  "language_info": {
   "codemirror_mode": {
    "name": "ipython",
    "version": 3
   },
   "file_extension": ".py",
   "mimetype": "text/x-python",
   "name": "python",
   "nbconvert_exporter": "python",
   "pygments_lexer": "ipython3",
   "version": "3.7.4"
  }
 },
 "nbformat": 4,
 "nbformat_minor": 2
}
