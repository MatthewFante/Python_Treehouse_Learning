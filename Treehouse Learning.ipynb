{
 "cells": [
  {
   "cell_type": "markdown",
   "metadata": {},
   "source": [
    "## Shopping List"
   ]
  },
  {
   "cell_type": "code",
   "execution_count": 1,
   "metadata": {},
   "outputs": [],
   "source": [
    "#Create a new empty list named shopping_list\n",
    "shopping_list = []"
   ]
  },
  {
   "cell_type": "markdown",
   "metadata": {},
   "source": [
    "#### Functions"
   ]
  },
  {
   "cell_type": "code",
   "execution_count": 2,
   "metadata": {},
   "outputs": [],
   "source": [
    "#Create a function named add_to_list that declares a parameter named item\n",
    "  #add the item to the list\n",
    "def add_to_list (item):\n",
    "    shopping_list.append(item)\n",
    "    #notify the user that the item was added and state the num of items in the list\n",
    "    print(\"Item added. There are {} items in the list\".format(len(shopping_list)))\n",
    "\n",
    "def show_help():\n",
    "    print(\"What should we pick up at the store?\")\n",
    "    print(\"\"\"\n",
    "    Enter 'DONE' to stop adding items.\n",
    "    Enter 'HELP' to show this help. \n",
    "    \"\"\")"
   ]
  },
  {
   "cell_type": "code",
   "execution_count": 3,
   "metadata": {},
   "outputs": [
    {
     "name": "stdout",
     "output_type": "stream",
     "text": [
      "What should we pick up at the store?\n",
      "\n",
      "    Enter 'DONE' to stop adding items.\n",
      "    Enter 'HELP' to show this help. \n",
      "    \n"
     ]
    }
   ],
   "source": [
    "show_help()"
   ]
  },
  {
   "cell_type": "markdown",
   "metadata": {},
   "source": [
    "##"
   ]
  },
  {
   "cell_type": "code",
   "execution_count": null,
   "metadata": {},
   "outputs": [],
   "source": [
    "while True:\n",
    "    new_item = input(\"> \")\n",
    "  \n",
    "    if new_item == \"DONE\":\n",
    "        break\n",
    "    \n",
    "    elif new_item == \"HELP\":\n",
    "        show_help()\n",
    "        continue\n",
    "    \n",
    "    #Call add_to_list with new_item as an argument\n",
    "    add_to_list(new_item)"
   ]
  }
 ],
 "metadata": {
  "kernelspec": {
   "display_name": "Python 3",
   "language": "python",
   "name": "python3"
  },
  "language_info": {
   "codemirror_mode": {
    "name": "ipython",
    "version": 3
   },
   "file_extension": ".py",
   "mimetype": "text/x-python",
   "name": "python",
   "nbconvert_exporter": "python",
   "pygments_lexer": "ipython3",
   "version": "3.7.4"
  }
 },
 "nbformat": 4,
 "nbformat_minor": 2
}
